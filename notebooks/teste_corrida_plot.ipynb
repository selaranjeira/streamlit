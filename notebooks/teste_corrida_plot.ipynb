{
 "cells": [
  {
   "cell_type": "code",
   "execution_count": 1,
   "metadata": {},
   "outputs": [],
   "source": [
    "import pandas as pd\n",
    "import matplotlib.pyplot as plt\n",
    "from datetime import datetime\n",
    "import plotly.graph_objects as go\n",
    "import streamlit as st"
   ]
  },
  {
   "cell_type": "code",
   "execution_count": 2,
   "metadata": {},
   "outputs": [],
   "source": [
    "# Leitura dos dados\n",
    "file = \"../data/run_data.csv\"\n",
    "colnames = ['data', 'quilometragem', 'tempo_min', 'calorias']\n",
    "df = pd.read_csv(file, names=colnames)"
   ]
  },
  {
   "cell_type": "code",
   "execution_count": 3,
   "metadata": {},
   "outputs": [],
   "source": [
    "# Função para filtrar os dados ignorando valores 0\n",
    "def filtrar_dados(df):\n",
    "    df['data'] = pd.to_datetime(df['data'], format='%d/%m/%y')\n",
    "    df['quilometragem'] = df['quilometragem'].astype(str).str.replace(',', '.').astype(float)\n",
    "    df['dia_semana'] = df['data'].dt.day_name()\n",
    "    df_filtrado = df[(df['quilometragem'] > 0.0)]\n",
    "    return df_filtrado.copy()"
   ]
  },
  {
   "cell_type": "code",
   "execution_count": 4,
   "metadata": {},
   "outputs": [],
   "source": [
    "media_calorias_por_minuto = (df['calorias'] / df['tempo_min']).mean()"
   ]
  },
  {
   "cell_type": "code",
   "execution_count": 5,
   "metadata": {},
   "outputs": [
    {
     "data": {
      "text/plain": [
       "7.141150773957512"
      ]
     },
     "execution_count": 5,
     "metadata": {},
     "output_type": "execute_result"
    }
   ],
   "source": [
    "media_calorias_por_minuto"
   ]
  },
  {
   "cell_type": "code",
   "execution_count": 4,
   "metadata": {},
   "outputs": [
    {
     "data": {
      "text/html": [
       "<div>\n",
       "<style scoped>\n",
       "    .dataframe tbody tr th:only-of-type {\n",
       "        vertical-align: middle;\n",
       "    }\n",
       "\n",
       "    .dataframe tbody tr th {\n",
       "        vertical-align: top;\n",
       "    }\n",
       "\n",
       "    .dataframe thead th {\n",
       "        text-align: right;\n",
       "    }\n",
       "</style>\n",
       "<table border=\"1\" class=\"dataframe\">\n",
       "  <thead>\n",
       "    <tr style=\"text-align: right;\">\n",
       "      <th></th>\n",
       "      <th>data</th>\n",
       "      <th>quilometragem</th>\n",
       "      <th>tempo_min</th>\n",
       "      <th>calorias</th>\n",
       "    </tr>\n",
       "  </thead>\n",
       "  <tbody>\n",
       "    <tr>\n",
       "      <th>53</th>\n",
       "      <td>30/07/24</td>\n",
       "      <td>4,6</td>\n",
       "      <td>41</td>\n",
       "      <td>302</td>\n",
       "    </tr>\n",
       "    <tr>\n",
       "      <th>54</th>\n",
       "      <td>31/07/24</td>\n",
       "      <td>5,1</td>\n",
       "      <td>45</td>\n",
       "      <td>332</td>\n",
       "    </tr>\n",
       "    <tr>\n",
       "      <th>55</th>\n",
       "      <td>01/08/24</td>\n",
       "      <td>0</td>\n",
       "      <td>0</td>\n",
       "      <td>0</td>\n",
       "    </tr>\n",
       "    <tr>\n",
       "      <th>56</th>\n",
       "      <td>02/08/24</td>\n",
       "      <td>0</td>\n",
       "      <td>0</td>\n",
       "      <td>0</td>\n",
       "    </tr>\n",
       "    <tr>\n",
       "      <th>57</th>\n",
       "      <td>03/08/24</td>\n",
       "      <td>0</td>\n",
       "      <td>0</td>\n",
       "      <td>0</td>\n",
       "    </tr>\n",
       "  </tbody>\n",
       "</table>\n",
       "</div>"
      ],
      "text/plain": [
       "        data quilometragem  tempo_min  calorias\n",
       "53  30/07/24           4,6         41       302\n",
       "54  31/07/24           5,1         45       332\n",
       "55  01/08/24             0          0         0\n",
       "56  02/08/24             0          0         0\n",
       "57  03/08/24             0          0         0"
      ]
     },
     "execution_count": 4,
     "metadata": {},
     "output_type": "execute_result"
    }
   ],
   "source": [
    "df.tail()"
   ]
  },
  {
   "cell_type": "code",
   "execution_count": 5,
   "metadata": {},
   "outputs": [],
   "source": [
    "# Aplicar a função para filtrar os dados\n",
    "df_filtrado = filtrar_dados(df)"
   ]
  },
  {
   "cell_type": "code",
   "execution_count": 6,
   "metadata": {},
   "outputs": [],
   "source": [
    "# Função para calcular médias\n",
    "def calcular_medias(df, df_filtrado):\n",
    "    media_calorias_com_zeros = df['calorias'].mean()\n",
    "    media_calorias_sem_zeros = df_filtrado['calorias'].mean()\n",
    "    media_km = df_filtrado['quilometragem'].mean()\n",
    "    media_cal = df_filtrado['calorias'].mean()\n",
    "    media_calorias_por_minuto = df_filtrado['calorias_por_minuto'].mean()\n",
    "    media_km_por_minuto = df_filtrado['km_por_minuto'].mean()\n",
    "    return media_calorias_com_zeros, media_calorias_sem_zeros, media_km, media_cal, media_calorias_por_minuto, media_km_por_minuto\n"
   ]
  },
  {
   "cell_type": "code",
   "execution_count": 9,
   "metadata": {},
   "outputs": [],
   "source": [
    "# Função para calcular métricas e adicionar colunas ao DataFrame\n",
    "def calcular_metricas(df):\n",
    "    df['calorias_por_minuto'] = df['calorias'] / df['tempo_min']\n",
    "    df['km_por_minuto'] = df['quilometragem'] / (df['tempo_min'] / 60)\n",
    "    return df\n"
   ]
  },
  {
   "cell_type": "code",
   "execution_count": 10,
   "metadata": {},
   "outputs": [],
   "source": [
    "# Função para calcular médias por dia da semana\n",
    "def calcular_medias_por_dia_semana(df_filtrado):\n",
    "    df_semana_calorias = df_filtrado[['dia_semana', 'calorias_por_minuto']]\n",
    "    media_calorias_por_dia_semana = df_semana_calorias.groupby('dia_semana')['calorias_por_minuto'].mean().sort_values(ascending=False)\n",
    "    \n",
    "    df_semana_km = df_filtrado[['dia_semana', 'km_por_minuto']]\n",
    "    media_km_por_dia_semana = df_semana_km.groupby('dia_semana')['km_por_minuto'].mean().sort_values(ascending=False)\n",
    "    \n",
    "    return media_calorias_por_dia_semana, media_km_por_dia_semana"
   ]
  },
  {
   "cell_type": "code",
   "execution_count": 11,
   "metadata": {},
   "outputs": [],
   "source": [
    "# Calcular métricas\n",
    "df_filtrado = calcular_metricas(df_filtrado)\n",
    "\n",
    "# Calcular médias\n",
    "media_calorias_com_zeros, media_calorias_sem_zeros, media_km, media_cal, media_calorias_por_minuto, media_km_por_minuto = calcular_medias(df, df_filtrado)\n",
    "\n",
    "# Calcular médias por dia da semana\n",
    "media_calorias_por_dia_semana, media_km_por_dia_semana = calcular_medias_por_dia_semana(df_filtrado)\n"
   ]
  },
  {
   "cell_type": "code",
   "execution_count": 12,
   "metadata": {},
   "outputs": [],
   "source": [
    "# Função para calcular médias\n",
    "def calcular_medias(df, df_filtrado):\n",
    "    media_calorias_com_zeros = df['calorias'].mean()\n",
    "    media_calorias_sem_zeros = df_filtrado['calorias'].mean()\n",
    "    return media_calorias_com_zeros, media_calorias_sem_zeros"
   ]
  },
  {
   "cell_type": "code",
   "execution_count": 38,
   "metadata": {},
   "outputs": [],
   "source": [
    "def criar_grafico(df, media_calorias_com_zeros, media_calorias_sem_zeros):\n",
    "    # Criar o gráfico de dispersão\n",
    "    fig = go.Figure()\n",
    "\n",
    "    # Adicionar a linha de calorias (linha conectando os pontos)\n",
    "    fig.add_trace(go.Scatter(\n",
    "        x=df['data'],\n",
    "        y=df['calorias'],\n",
    "        mode='lines+markers',  # Adiciona linha e marcadores\n",
    "        line=dict(color='white'),\n",
    "        marker=dict(\n",
    "            color=['green' if calorias > media_calorias_sem_zeros else 'red' for calorias in df['calorias']],\n",
    "            size=10\n",
    "        ),\n",
    "        text=df.apply(lambda row: f\"Calorias: {row['calorias']}<br>Quilometragem: {row['quilometragem']}\", axis=1),\n",
    "        hoverinfo='text',\n",
    "        name='Calorias'\n",
    "    ))\n",
    "\n",
    "    # Adicionar linha da média de calorias sem zeros\n",
    "    fig.add_trace(go.Scatter(\n",
    "        x=[df['data'].min(), df['data'].max()],\n",
    "        y=[media_calorias_sem_zeros, media_calorias_sem_zeros],\n",
    "        mode='lines',\n",
    "        line=dict(color='green', dash='dash'),\n",
    "        name=f'Média de Calorias (sem zeros: {media_calorias_sem_zeros:.2f})'\n",
    "    ))\n",
    "\n",
    "    # Adicionar linha da média de calorias com zeros\n",
    "    fig.add_trace(go.Scatter(\n",
    "        x=[df['data'].min(), df['data'].max()],\n",
    "        y=[media_calorias_com_zeros, media_calorias_com_zeros],\n",
    "        mode='lines',\n",
    "        line=dict(color='blue', dash='dash'),\n",
    "        name=f'Média de Calorias (com zeros: {media_calorias_com_zeros:.2f})'\n",
    "    ))\n",
    "\n",
    "    # Adicionar os rótulos com data e dia da semana\n",
    "    fig.update_xaxes(\n",
    "        tickmode='array',\n",
    "        tickvals=df['data'],\n",
    "        ticktext=df['data'].dt.strftime('%d-%b-%a'),  # Formato dia-mês-abreviação do dia da semana\n",
    "        tickangle=-90,  # Inclinação dos rótulos para melhorar a legibilidade\n",
    "        tickfont=dict(size=10)  # Tamanho da fonte dos rótulos\n",
    "    )\n",
    "\n",
    "    # Personalizar o layout\n",
    "    fig.update_layout(\n",
    "        title='Calorias por Dia com Médias',\n",
    "        xaxis_title='Data',\n",
    "        yaxis_title='Calorias',\n",
    "        plot_bgcolor='lightgray',  # Fundo do gráfico cinza\n",
    "        paper_bgcolor='lightgray',  # Fundo da página cinza\n",
    "        autosize=True,\n",
    "        margin=dict(l=100, r=20, t=50, b=150)  # Ajustar as margens para dar mais espaço para os rótulos do eixo x\n",
    "    )\n",
    "\n",
    "    # Mostrar o gráfico \n",
    "    fig.show()\n"
   ]
  },
  {
   "cell_type": "code",
   "execution_count": 39,
   "metadata": {},
   "outputs": [
    {
     "data": {
      "application/vnd.plotly.v1+json": {
       "config": {
        "plotlyServerURL": "https://plot.ly"
       },
       "data": [
        {
         "hoverinfo": "text",
         "line": {
          "color": "white"
         },
         "marker": {
          "color": [
           "green",
           "red",
           "red",
           "red",
           "green",
           "green",
           "green",
           "red",
           "green",
           "red",
           "green",
           "green",
           "red",
           "green",
           "green",
           "red",
           "red",
           "red",
           "red",
           "green",
           "green",
           "green",
           "green",
           "red",
           "red",
           "red",
           "green",
           "green",
           "green",
           "red",
           "red",
           "red",
           "red",
           "red",
           "red",
           "red",
           "red",
           "red",
           "red",
           "red",
           "red",
           "green",
           "green",
           "red",
           "red",
           "red",
           "red",
           "red",
           "green",
           "green",
           "red",
           "red",
           "green",
           "red",
           "green",
           "red",
           "red",
           "red"
          ],
          "size": 10
         },
         "mode": "lines+markers",
         "name": "Calorias",
         "text": [
          "Calorias: 334<br>Quilometragem: 5.0",
          "Calorias: 0<br>Quilometragem: 0.0",
          "Calorias: 0<br>Quilometragem: 0.0",
          "Calorias: 294<br>Quilometragem: 4.5",
          "Calorias: 329<br>Quilometragem: 5.0",
          "Calorias: 311<br>Quilometragem: 4.7",
          "Calorias: 329<br>Quilometragem: 5.1",
          "Calorias: 0<br>Quilometragem: 0.0",
          "Calorias: 439<br>Quilometragem: 6.7",
          "Calorias: 0<br>Quilometragem: 0.0",
          "Calorias: 330<br>Quilometragem: 5.0",
          "Calorias: 354<br>Quilometragem: 5.4",
          "Calorias: 256<br>Quilometragem: 3.9",
          "Calorias: 341<br>Quilometragem: 5.2",
          "Calorias: 336<br>Quilometragem: 5.1",
          "Calorias: 252<br>Quilometragem: 3.8",
          "Calorias: 0<br>Quilometragem: 0.0",
          "Calorias: 0<br>Quilometragem: 0.0",
          "Calorias: 235<br>Quilometragem: 3.6",
          "Calorias: 352<br>Quilometragem: 5.4",
          "Calorias: 342<br>Quilometragem: 5.2",
          "Calorias: 366<br>Quilometragem: 5.5",
          "Calorias: 351<br>Quilometragem: 5.4",
          "Calorias: 0<br>Quilometragem: 0.0",
          "Calorias: 200<br>Quilometragem: 3.0",
          "Calorias: 0<br>Quilometragem: 0.0",
          "Calorias: 347<br>Quilometragem: 5.0",
          "Calorias: 351<br>Quilometragem: 5.4",
          "Calorias: 337<br>Quilometragem: 5.1",
          "Calorias: 0<br>Quilometragem: 0.0",
          "Calorias: 0<br>Quilometragem: 0.0",
          "Calorias: 235<br>Quilometragem: 3.6",
          "Calorias: 228<br>Quilometragem: 3.5",
          "Calorias: 0<br>Quilometragem: 0.0",
          "Calorias: 0<br>Quilometragem: 0.0",
          "Calorias: 0<br>Quilometragem: 0.0",
          "Calorias: 0<br>Quilometragem: 0.0",
          "Calorias: 0<br>Quilometragem: 0.0",
          "Calorias: 237<br>Quilometragem: 3.6",
          "Calorias: 247<br>Quilometragem: 3.8",
          "Calorias: 246<br>Quilometragem: 3.8",
          "Calorias: 356<br>Quilometragem: 5.5",
          "Calorias: 312<br>Quilometragem: 4.8",
          "Calorias: 0<br>Quilometragem: 0.0",
          "Calorias: 0<br>Quilometragem: 0.0",
          "Calorias: 242<br>Quilometragem: 3.7",
          "Calorias: 281<br>Quilometragem: 4.3",
          "Calorias: 285<br>Quilometragem: 4.4",
          "Calorias: 317<br>Quilometragem: 4.9",
          "Calorias: 317<br>Quilometragem: 4.8",
          "Calorias: 0<br>Quilometragem: 0.0",
          "Calorias: 0<br>Quilometragem: 0.0",
          "Calorias: 315<br>Quilometragem: 4.8",
          "Calorias: 302<br>Quilometragem: 4.6",
          "Calorias: 332<br>Quilometragem: 5.1",
          "Calorias: 0<br>Quilometragem: 0.0",
          "Calorias: 0<br>Quilometragem: 0.0",
          "Calorias: 0<br>Quilometragem: 0.0"
         ],
         "type": "scatter",
         "x": [
          "2024-06-07T00:00:00",
          "2024-06-08T00:00:00",
          "2024-06-09T00:00:00",
          "2024-06-10T00:00:00",
          "2024-06-11T00:00:00",
          "2024-06-12T00:00:00",
          "2024-06-13T00:00:00",
          "2024-06-14T00:00:00",
          "2024-06-15T00:00:00",
          "2024-06-16T00:00:00",
          "2024-06-17T00:00:00",
          "2024-06-18T00:00:00",
          "2024-06-19T00:00:00",
          "2024-06-20T00:00:00",
          "2024-06-21T00:00:00",
          "2024-06-22T00:00:00",
          "2024-06-23T00:00:00",
          "2024-06-24T00:00:00",
          "2024-06-25T00:00:00",
          "2024-06-26T00:00:00",
          "2024-06-27T00:00:00",
          "2024-06-28T00:00:00",
          "2024-06-29T00:00:00",
          "2024-06-30T00:00:00",
          "2024-07-01T00:00:00",
          "2024-07-02T00:00:00",
          "2024-07-03T00:00:00",
          "2024-07-04T00:00:00",
          "2024-07-05T00:00:00",
          "2024-07-06T00:00:00",
          "2024-07-07T00:00:00",
          "2024-07-08T00:00:00",
          "2024-07-09T00:00:00",
          "2024-07-10T00:00:00",
          "2024-07-11T00:00:00",
          "2024-07-12T00:00:00",
          "2024-07-13T00:00:00",
          "2024-07-14T00:00:00",
          "2024-07-15T00:00:00",
          "2024-07-16T00:00:00",
          "2024-07-17T00:00:00",
          "2024-07-18T00:00:00",
          "2024-07-19T00:00:00",
          "2024-07-20T00:00:00",
          "2024-07-21T00:00:00",
          "2024-07-22T00:00:00",
          "2024-07-23T00:00:00",
          "2024-07-24T00:00:00",
          "2024-07-25T00:00:00",
          "2024-07-26T00:00:00",
          "2024-07-27T00:00:00",
          "2024-07-28T00:00:00",
          "2024-07-29T00:00:00",
          "2024-07-30T00:00:00",
          "2024-07-31T00:00:00",
          "2024-08-01T00:00:00",
          "2024-08-02T00:00:00",
          "2024-08-03T00:00:00"
         ],
         "y": [
          334,
          0,
          0,
          294,
          329,
          311,
          329,
          0,
          439,
          0,
          330,
          354,
          256,
          341,
          336,
          252,
          0,
          0,
          235,
          352,
          342,
          366,
          351,
          0,
          200,
          0,
          347,
          351,
          337,
          0,
          0,
          235,
          228,
          0,
          0,
          0,
          0,
          0,
          237,
          247,
          246,
          356,
          312,
          0,
          0,
          242,
          281,
          285,
          317,
          317,
          0,
          0,
          315,
          302,
          332,
          0,
          0,
          0
         ]
        },
        {
         "line": {
          "color": "green",
          "dash": "dash"
         },
         "mode": "lines",
         "name": "Média de Calorias (sem zeros: 306.61)",
         "type": "scatter",
         "x": [
          "2024-06-07T00:00:00",
          "2024-08-03T00:00:00"
         ],
         "y": [
          306.6111111111111,
          306.6111111111111
         ]
        },
        {
         "line": {
          "color": "blue",
          "dash": "dash"
         },
         "mode": "lines",
         "name": "Média de Calorias (com zeros: 190.31)",
         "type": "scatter",
         "x": [
          "2024-06-07T00:00:00",
          "2024-08-03T00:00:00"
         ],
         "y": [
          190.31034482758622,
          190.31034482758622
         ]
        }
       ],
       "layout": {
        "autosize": true,
        "margin": {
         "b": 150,
         "l": 100,
         "r": 20,
         "t": 50
        },
        "paper_bgcolor": "lightgray",
        "plot_bgcolor": "lightgray",
        "template": {
         "data": {
          "candlestick": [
           {
            "decreasing": {
             "line": {
              "color": "#000033"
             }
            },
            "increasing": {
             "line": {
              "color": "#000032"
             }
            },
            "type": "candlestick"
           }
          ],
          "contour": [
           {
            "colorscale": [
             [
              0,
              "#000011"
             ],
             [
              0.1111111111111111,
              "#000012"
             ],
             [
              0.2222222222222222,
              "#000013"
             ],
             [
              0.3333333333333333,
              "#000014"
             ],
             [
              0.4444444444444444,
              "#000015"
             ],
             [
              0.5555555555555556,
              "#000016"
             ],
             [
              0.6666666666666666,
              "#000017"
             ],
             [
              0.7777777777777778,
              "#000018"
             ],
             [
              0.8888888888888888,
              "#000019"
             ],
             [
              1,
              "#000020"
             ]
            ],
            "type": "contour"
           }
          ],
          "contourcarpet": [
           {
            "colorscale": [
             [
              0,
              "#000011"
             ],
             [
              0.1111111111111111,
              "#000012"
             ],
             [
              0.2222222222222222,
              "#000013"
             ],
             [
              0.3333333333333333,
              "#000014"
             ],
             [
              0.4444444444444444,
              "#000015"
             ],
             [
              0.5555555555555556,
              "#000016"
             ],
             [
              0.6666666666666666,
              "#000017"
             ],
             [
              0.7777777777777778,
              "#000018"
             ],
             [
              0.8888888888888888,
              "#000019"
             ],
             [
              1,
              "#000020"
             ]
            ],
            "type": "contourcarpet"
           }
          ],
          "heatmap": [
           {
            "colorscale": [
             [
              0,
              "#000011"
             ],
             [
              0.1111111111111111,
              "#000012"
             ],
             [
              0.2222222222222222,
              "#000013"
             ],
             [
              0.3333333333333333,
              "#000014"
             ],
             [
              0.4444444444444444,
              "#000015"
             ],
             [
              0.5555555555555556,
              "#000016"
             ],
             [
              0.6666666666666666,
              "#000017"
             ],
             [
              0.7777777777777778,
              "#000018"
             ],
             [
              0.8888888888888888,
              "#000019"
             ],
             [
              1,
              "#000020"
             ]
            ],
            "type": "heatmap"
           }
          ],
          "histogram2d": [
           {
            "colorscale": [
             [
              0,
              "#000011"
             ],
             [
              0.1111111111111111,
              "#000012"
             ],
             [
              0.2222222222222222,
              "#000013"
             ],
             [
              0.3333333333333333,
              "#000014"
             ],
             [
              0.4444444444444444,
              "#000015"
             ],
             [
              0.5555555555555556,
              "#000016"
             ],
             [
              0.6666666666666666,
              "#000017"
             ],
             [
              0.7777777777777778,
              "#000018"
             ],
             [
              0.8888888888888888,
              "#000019"
             ],
             [
              1,
              "#000020"
             ]
            ],
            "type": "histogram2d"
           }
          ],
          "icicle": [
           {
            "textfont": {
             "color": "white"
            },
            "type": "icicle"
           }
          ],
          "sankey": [
           {
            "textfont": {
             "color": "#000036"
            },
            "type": "sankey"
           }
          ],
          "scatter": [
           {
            "marker": {
             "line": {
              "width": 0
             }
            },
            "type": "scatter"
           }
          ],
          "table": [
           {
            "cells": {
             "fill": {
              "color": "#000038"
             },
             "font": {
              "color": "#000037"
             },
             "line": {
              "color": "#000039"
             }
            },
            "header": {
             "fill": {
              "color": "#000040"
             },
             "font": {
              "color": "#000036"
             },
             "line": {
              "color": "#000039"
             }
            },
            "type": "table"
           }
          ],
          "waterfall": [
           {
            "connector": {
             "line": {
              "color": "#000036",
              "width": 2
             }
            },
            "decreasing": {
             "marker": {
              "color": "#000033"
             }
            },
            "increasing": {
             "marker": {
              "color": "#000032"
             }
            },
            "totals": {
             "marker": {
              "color": "#000034"
             }
            },
            "type": "waterfall"
           }
          ]
         },
         "layout": {
          "coloraxis": {
           "colorscale": [
            [
             0,
             "#000011"
            ],
            [
             0.1111111111111111,
             "#000012"
            ],
            [
             0.2222222222222222,
             "#000013"
            ],
            [
             0.3333333333333333,
             "#000014"
            ],
            [
             0.4444444444444444,
             "#000015"
            ],
            [
             0.5555555555555556,
             "#000016"
            ],
            [
             0.6666666666666666,
             "#000017"
            ],
            [
             0.7777777777777778,
             "#000018"
            ],
            [
             0.8888888888888888,
             "#000019"
            ],
            [
             1,
             "#000020"
            ]
           ]
          },
          "colorscale": {
           "diverging": [
            [
             0,
             "#000021"
            ],
            [
             0.1,
             "#000022"
            ],
            [
             0.2,
             "#000023"
            ],
            [
             0.3,
             "#000024"
            ],
            [
             0.4,
             "#000025"
            ],
            [
             0.5,
             "#000026"
            ],
            [
             0.6,
             "#000027"
            ],
            [
             0.7,
             "#000028"
            ],
            [
             0.8,
             "#000029"
            ],
            [
             0.9,
             "#000030"
            ],
            [
             1,
             "#000031"
            ]
           ],
           "sequential": [
            [
             0,
             "#000011"
            ],
            [
             0.1111111111111111,
             "#000012"
            ],
            [
             0.2222222222222222,
             "#000013"
            ],
            [
             0.3333333333333333,
             "#000014"
            ],
            [
             0.4444444444444444,
             "#000015"
            ],
            [
             0.5555555555555556,
             "#000016"
            ],
            [
             0.6666666666666666,
             "#000017"
            ],
            [
             0.7777777777777778,
             "#000018"
            ],
            [
             0.8888888888888888,
             "#000019"
            ],
            [
             1,
             "#000020"
            ]
           ],
           "sequentialminus": [
            [
             0,
             "#000011"
            ],
            [
             0.1111111111111111,
             "#000012"
            ],
            [
             0.2222222222222222,
             "#000013"
            ],
            [
             0.3333333333333333,
             "#000014"
            ],
            [
             0.4444444444444444,
             "#000015"
            ],
            [
             0.5555555555555556,
             "#000016"
            ],
            [
             0.6666666666666666,
             "#000017"
            ],
            [
             0.7777777777777778,
             "#000018"
            ],
            [
             0.8888888888888888,
             "#000019"
            ],
            [
             1,
             "#000020"
            ]
           ]
          },
          "colorway": [
           "#000001",
           "#000002",
           "#000003",
           "#000004",
           "#000005",
           "#000006",
           "#000007",
           "#000008",
           "#000009",
           "#000010"
          ]
         }
        },
        "title": {
         "text": "Calorias por Dia com Médias"
        },
        "xaxis": {
         "tickangle": -90,
         "tickfont": {
          "size": 10
         },
         "tickmode": "array",
         "ticktext": [
          "07-Jun-Fri",
          "08-Jun-Sat",
          "09-Jun-Sun",
          "10-Jun-Mon",
          "11-Jun-Tue",
          "12-Jun-Wed",
          "13-Jun-Thu",
          "14-Jun-Fri",
          "15-Jun-Sat",
          "16-Jun-Sun",
          "17-Jun-Mon",
          "18-Jun-Tue",
          "19-Jun-Wed",
          "20-Jun-Thu",
          "21-Jun-Fri",
          "22-Jun-Sat",
          "23-Jun-Sun",
          "24-Jun-Mon",
          "25-Jun-Tue",
          "26-Jun-Wed",
          "27-Jun-Thu",
          "28-Jun-Fri",
          "29-Jun-Sat",
          "30-Jun-Sun",
          "01-Jul-Mon",
          "02-Jul-Tue",
          "03-Jul-Wed",
          "04-Jul-Thu",
          "05-Jul-Fri",
          "06-Jul-Sat",
          "07-Jul-Sun",
          "08-Jul-Mon",
          "09-Jul-Tue",
          "10-Jul-Wed",
          "11-Jul-Thu",
          "12-Jul-Fri",
          "13-Jul-Sat",
          "14-Jul-Sun",
          "15-Jul-Mon",
          "16-Jul-Tue",
          "17-Jul-Wed",
          "18-Jul-Thu",
          "19-Jul-Fri",
          "20-Jul-Sat",
          "21-Jul-Sun",
          "22-Jul-Mon",
          "23-Jul-Tue",
          "24-Jul-Wed",
          "25-Jul-Thu",
          "26-Jul-Fri",
          "27-Jul-Sat",
          "28-Jul-Sun",
          "29-Jul-Mon",
          "30-Jul-Tue",
          "31-Jul-Wed",
          "01-Aug-Thu",
          "02-Aug-Fri",
          "03-Aug-Sat"
         ],
         "tickvals": [
          "2024-06-07T00:00:00",
          "2024-06-08T00:00:00",
          "2024-06-09T00:00:00",
          "2024-06-10T00:00:00",
          "2024-06-11T00:00:00",
          "2024-06-12T00:00:00",
          "2024-06-13T00:00:00",
          "2024-06-14T00:00:00",
          "2024-06-15T00:00:00",
          "2024-06-16T00:00:00",
          "2024-06-17T00:00:00",
          "2024-06-18T00:00:00",
          "2024-06-19T00:00:00",
          "2024-06-20T00:00:00",
          "2024-06-21T00:00:00",
          "2024-06-22T00:00:00",
          "2024-06-23T00:00:00",
          "2024-06-24T00:00:00",
          "2024-06-25T00:00:00",
          "2024-06-26T00:00:00",
          "2024-06-27T00:00:00",
          "2024-06-28T00:00:00",
          "2024-06-29T00:00:00",
          "2024-06-30T00:00:00",
          "2024-07-01T00:00:00",
          "2024-07-02T00:00:00",
          "2024-07-03T00:00:00",
          "2024-07-04T00:00:00",
          "2024-07-05T00:00:00",
          "2024-07-06T00:00:00",
          "2024-07-07T00:00:00",
          "2024-07-08T00:00:00",
          "2024-07-09T00:00:00",
          "2024-07-10T00:00:00",
          "2024-07-11T00:00:00",
          "2024-07-12T00:00:00",
          "2024-07-13T00:00:00",
          "2024-07-14T00:00:00",
          "2024-07-15T00:00:00",
          "2024-07-16T00:00:00",
          "2024-07-17T00:00:00",
          "2024-07-18T00:00:00",
          "2024-07-19T00:00:00",
          "2024-07-20T00:00:00",
          "2024-07-21T00:00:00",
          "2024-07-22T00:00:00",
          "2024-07-23T00:00:00",
          "2024-07-24T00:00:00",
          "2024-07-25T00:00:00",
          "2024-07-26T00:00:00",
          "2024-07-27T00:00:00",
          "2024-07-28T00:00:00",
          "2024-07-29T00:00:00",
          "2024-07-30T00:00:00",
          "2024-07-31T00:00:00",
          "2024-08-01T00:00:00",
          "2024-08-02T00:00:00",
          "2024-08-03T00:00:00"
         ],
         "title": {
          "text": "Data"
         }
        },
        "yaxis": {
         "title": {
          "text": "Calorias"
         }
        }
       }
      }
     },
     "metadata": {},
     "output_type": "display_data"
    }
   ],
   "source": [
    "criar_grafico(df, media_calorias_com_zeros, media_calorias_sem_zeros)"
   ]
  },
  {
   "cell_type": "code",
   "execution_count": null,
   "metadata": {},
   "outputs": [],
   "source": []
  }
 ],
 "metadata": {
  "kernelspec": {
   "display_name": "Python 3 (ipykernel)",
   "language": "python",
   "name": "python3"
  },
  "language_info": {
   "codemirror_mode": {
    "name": "ipython",
    "version": 3
   },
   "file_extension": ".py",
   "mimetype": "text/x-python",
   "name": "python",
   "nbconvert_exporter": "python",
   "pygments_lexer": "ipython3",
   "version": "3.12.4"
  }
 },
 "nbformat": 4,
 "nbformat_minor": 4
}
