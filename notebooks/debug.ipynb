{
 "cells": [
  {
   "cell_type": "code",
   "execution_count": 1,
   "metadata": {},
   "outputs": [],
   "source": [
    "import pandas as pd\n",
    "import sqlite3\n",
    "\n",
    "def carregar_dados():\n",
    "    conn = sqlite3.connect('/home/selaranjeira/Desktop/loc_proj/desemp_esportivo/data/runningDB.sqlite3')\n",
    "    df = pd.read_sql_query(\"SELECT * FROM running_data\", conn)\n",
    "    conn.close()\n",
    "    df['data'] = pd.to_datetime(df['data'])\n",
    "    df['quilometragem'] = df['quilometragem'].astype(float)\n",
    "    return df"
   ]
  },
  {
   "cell_type": "code",
   "execution_count": 3,
   "metadata": {},
   "outputs": [],
   "source": [
    "df = carregar_dados()"
   ]
  },
  {
   "cell_type": "code",
   "execution_count": 4,
   "metadata": {},
   "outputs": [
    {
     "data": {
      "text/html": [
       "<div>\n",
       "<style scoped>\n",
       "    .dataframe tbody tr th:only-of-type {\n",
       "        vertical-align: middle;\n",
       "    }\n",
       "\n",
       "    .dataframe tbody tr th {\n",
       "        vertical-align: top;\n",
       "    }\n",
       "\n",
       "    .dataframe thead th {\n",
       "        text-align: right;\n",
       "    }\n",
       "</style>\n",
       "<table border=\"1\" class=\"dataframe\">\n",
       "  <thead>\n",
       "    <tr style=\"text-align: right;\">\n",
       "      <th></th>\n",
       "      <th>data</th>\n",
       "      <th>quilometragem</th>\n",
       "      <th>tempo_min</th>\n",
       "      <th>calorias</th>\n",
       "      <th>dia_semana</th>\n",
       "    </tr>\n",
       "  </thead>\n",
       "  <tbody>\n",
       "    <tr>\n",
       "      <th>0</th>\n",
       "      <td>2024-06-01</td>\n",
       "      <td>0.0</td>\n",
       "      <td>0</td>\n",
       "      <td>0</td>\n",
       "      <td>Saturday</td>\n",
       "    </tr>\n",
       "    <tr>\n",
       "      <th>1</th>\n",
       "      <td>2024-06-02</td>\n",
       "      <td>0.0</td>\n",
       "      <td>0</td>\n",
       "      <td>0</td>\n",
       "      <td>Sunday</td>\n",
       "    </tr>\n",
       "    <tr>\n",
       "      <th>2</th>\n",
       "      <td>2024-06-03</td>\n",
       "      <td>0.0</td>\n",
       "      <td>0</td>\n",
       "      <td>0</td>\n",
       "      <td>Monday</td>\n",
       "    </tr>\n",
       "    <tr>\n",
       "      <th>3</th>\n",
       "      <td>2024-06-04</td>\n",
       "      <td>0.0</td>\n",
       "      <td>0</td>\n",
       "      <td>0</td>\n",
       "      <td>Tuesday</td>\n",
       "    </tr>\n",
       "    <tr>\n",
       "      <th>4</th>\n",
       "      <td>2024-06-05</td>\n",
       "      <td>0.0</td>\n",
       "      <td>0</td>\n",
       "      <td>0</td>\n",
       "      <td>Wednesday</td>\n",
       "    </tr>\n",
       "    <tr>\n",
       "      <th>...</th>\n",
       "      <td>...</td>\n",
       "      <td>...</td>\n",
       "      <td>...</td>\n",
       "      <td>...</td>\n",
       "      <td>...</td>\n",
       "    </tr>\n",
       "    <tr>\n",
       "      <th>88</th>\n",
       "      <td>2024-08-27</td>\n",
       "      <td>0.0</td>\n",
       "      <td>0</td>\n",
       "      <td>0</td>\n",
       "      <td>Tuesday</td>\n",
       "    </tr>\n",
       "    <tr>\n",
       "      <th>89</th>\n",
       "      <td>2024-08-28</td>\n",
       "      <td>0.0</td>\n",
       "      <td>0</td>\n",
       "      <td>0</td>\n",
       "      <td>Wednesday</td>\n",
       "    </tr>\n",
       "    <tr>\n",
       "      <th>90</th>\n",
       "      <td>2024-08-29</td>\n",
       "      <td>0.0</td>\n",
       "      <td>0</td>\n",
       "      <td>0</td>\n",
       "      <td>Thursday</td>\n",
       "    </tr>\n",
       "    <tr>\n",
       "      <th>91</th>\n",
       "      <td>2024-08-30</td>\n",
       "      <td>0.0</td>\n",
       "      <td>0</td>\n",
       "      <td>0</td>\n",
       "      <td>Friday</td>\n",
       "    </tr>\n",
       "    <tr>\n",
       "      <th>92</th>\n",
       "      <td>2024-08-31</td>\n",
       "      <td>0.0</td>\n",
       "      <td>0</td>\n",
       "      <td>0</td>\n",
       "      <td>Saturday</td>\n",
       "    </tr>\n",
       "  </tbody>\n",
       "</table>\n",
       "<p>93 rows × 5 columns</p>\n",
       "</div>"
      ],
      "text/plain": [
       "         data  quilometragem  tempo_min  calorias dia_semana\n",
       "0  2024-06-01            0.0          0         0   Saturday\n",
       "1  2024-06-02            0.0          0         0     Sunday\n",
       "2  2024-06-03            0.0          0         0     Monday\n",
       "3  2024-06-04            0.0          0         0    Tuesday\n",
       "4  2024-06-05            0.0          0         0  Wednesday\n",
       "..        ...            ...        ...       ...        ...\n",
       "88 2024-08-27            0.0          0         0    Tuesday\n",
       "89 2024-08-28            0.0          0         0  Wednesday\n",
       "90 2024-08-29            0.0          0         0   Thursday\n",
       "91 2024-08-30            0.0          0         0     Friday\n",
       "92 2024-08-31            0.0          0         0   Saturday\n",
       "\n",
       "[93 rows x 5 columns]"
      ]
     },
     "execution_count": 4,
     "metadata": {},
     "output_type": "execute_result"
    }
   ],
   "source": [
    "df"
   ]
  },
  {
   "cell_type": "code",
   "execution_count": 5,
   "metadata": {},
   "outputs": [
    {
     "name": "stdout",
     "output_type": "stream",
     "text": [
      "Tabelas no banco de dados:            name\n",
      "0  running_data\n",
      "Dados carregados do banco de dados:\n",
      "                  data  quilometragem  tempo_min  calorias dia_semana\n",
      "0  2024-06-01 00:00:00            0.0          0         0   Saturday\n",
      "1  2024-06-02 00:00:00            0.0          0         0     Sunday\n",
      "2  2024-06-03 00:00:00            0.0          0         0     Monday\n",
      "3  2024-06-04 00:00:00            0.0          0         0    Tuesday\n",
      "4  2024-06-05 00:00:00            0.0          0         0  Wednesday\n",
      "        data  quilometragem  tempo_min  calorias dia_semana\n",
      "0 2024-06-01            0.0          0         0   Saturday\n",
      "1 2024-06-02            0.0          0         0     Sunday\n",
      "2 2024-06-03            0.0          0         0     Monday\n",
      "3 2024-06-04            0.0          0         0    Tuesday\n",
      "4 2024-06-05            0.0          0         0  Wednesday\n"
     ]
    }
   ],
   "source": [
    "import pandas as pd\n",
    "import sqlite3\n",
    "\n",
    "def carregar_dados():\n",
    "    # Conectar ao banco de dados\n",
    "    conn = sqlite3.connect('/home/selaranjeira/Desktop/loc_proj/desemp_esportivo/data/runningDB.sqlite3')\n",
    "    \n",
    "    # Verificar a conexão e a existência da tabela\n",
    "    query_tables = \"SELECT name FROM sqlite_master WHERE type='table';\"\n",
    "    tables = pd.read_sql_query(query_tables, conn)\n",
    "    print(\"Tabelas no banco de dados:\", tables)\n",
    "\n",
    "    # Carregar os dados da tabela running_data\n",
    "    try:\n",
    "        df = pd.read_sql_query(\"SELECT * FROM running_data\", conn)\n",
    "        print(\"Dados carregados do banco de dados:\")\n",
    "        print(df.head())  # Mostra as primeiras linhas do DataFrame\n",
    "\n",
    "        # Fechar a conexão\n",
    "        conn.close()\n",
    "\n",
    "        # Processar os dados\n",
    "        df['data'] = pd.to_datetime(df['data'])\n",
    "        df['quilometragem'] = df['quilometragem'].astype(float)\n",
    "        return df\n",
    "    except Exception as e:\n",
    "        print(\"Erro ao carregar os dados:\", e)\n",
    "        conn.close()\n",
    "        return pd.DataFrame()  # Retornar um DataFrame vazio em caso de erro\n",
    "\n",
    "# Testar a função\n",
    "df = carregar_dados()\n",
    "print(df.head())\n"
   ]
  },
  {
   "cell_type": "code",
   "execution_count": 7,
   "metadata": {},
   "outputs": [
    {
     "name": "stdout",
     "output_type": "stream",
     "text": [
      "                   data  quilometragem  tempo_min  calorias dia_semana\n",
      "0   2024-06-01 00:00:00            0.0          0         0   Saturday\n",
      "1   2024-06-02 00:00:00            0.0          0         0     Sunday\n",
      "2   2024-06-03 00:00:00            0.0          0         0     Monday\n",
      "3   2024-06-04 00:00:00            0.0          0         0    Tuesday\n",
      "4   2024-06-05 00:00:00            0.0          0         0  Wednesday\n",
      "5   2024-06-06 00:00:00            0.0          0         0   Thursday\n",
      "6   2024-06-07 00:00:00            0.0          0         0     Friday\n",
      "7   2023-06-08 00:00:00            0.0          0         0   Thursday\n",
      "8   2024-06-08 00:00:00            0.0          0         0   Saturday\n",
      "9   2024-06-09 00:00:00            0.0          0         0     Sunday\n",
      "10  2024-06-10 00:00:00            4.5         40       294     Monday\n",
      "11  2024-06-11 00:00:00            5.0         45       329    Tuesday\n",
      "12  2024-06-12 00:00:00            4.7         40       311  Wednesday\n",
      "13  2024-06-13 00:00:00            5.1         45       329   Thursday\n",
      "14  2024-06-14 00:00:00            0.0          0         0     Friday\n"
     ]
    }
   ],
   "source": [
    "import sqlite3\n",
    "\n",
    "conn = sqlite3.connect('/home/selaranjeira/Desktop/loc_proj/desemp_esportivo/data/runningDB.sqlite3')\n",
    "query = \"SELECT * FROM running_data LIMIT 15;\"\n",
    "df_test = pd.read_sql_query(query, conn)\n",
    "print(df_test)\n",
    "conn.close()\n"
   ]
  },
  {
   "cell_type": "code",
   "execution_count": 8,
   "metadata": {},
   "outputs": [],
   "source": [
    "media_calorias_por_minuto = (df_test['calorias'] / df_test['tempo_min']).mean()"
   ]
  },
  {
   "cell_type": "code",
   "execution_count": 9,
   "metadata": {},
   "outputs": [
    {
     "data": {
      "text/plain": [
       "7.436805555555555"
      ]
     },
     "execution_count": 9,
     "metadata": {},
     "output_type": "execute_result"
    }
   ],
   "source": [
    "media_calorias_por_minuto"
   ]
  },
  {
   "cell_type": "code",
   "execution_count": 10,
   "metadata": {},
   "outputs": [
    {
     "name": "stdout",
     "output_type": "stream",
     "text": [
      "Colunas após calcular métricas: Index(['data', 'quilometragem', 'tempo_min', 'calorias', 'dia_semana',\n",
      "       'calorias_por_minuto', 'km_por_minuto'],\n",
      "      dtype='object')\n"
     ]
    }
   ],
   "source": [
    "import pandas as pd\n",
    "import sqlite3\n",
    "\n",
    "def carregar_dados():\n",
    "    conn = sqlite3.connect('/home/selaranjeira/Desktop/loc_proj/desemp_esportivo/data/runningDB.sqlite3')\n",
    "    df = pd.read_sql_query(\"SELECT * FROM running_data\", conn)\n",
    "    conn.close()\n",
    "    df['data'] = pd.to_datetime(df['data'])\n",
    "    df['quilometragem'] = df['quilometragem'].astype(float)\n",
    "    return df\n",
    "\n",
    "def calcular_metricas(df):\n",
    "    df['calorias_por_minuto'] = df['calorias'] / df['tempo_min']\n",
    "    df['km_por_minuto'] = df['quilometragem'] / (df['tempo_min'] / 60)\n",
    "    return df\n",
    "\n",
    "df = carregar_dados()\n",
    "df = calcular_metricas(df)\n",
    "print(\"Colunas após calcular métricas:\", df.columns)\n"
   ]
  },
  {
   "cell_type": "code",
   "execution_count": 11,
   "metadata": {},
   "outputs": [
    {
     "name": "stdout",
     "output_type": "stream",
     "text": [
      "Colunas disponíveis no DataFrame: Index(['data', 'quilometragem', 'tempo_min', 'calorias', 'dia_semana'], dtype='object')\n",
      "Colunas após calcular métricas: Index(['data', 'quilometragem', 'tempo_min', 'calorias', 'dia_semana',\n",
      "       'calorias_por_minuto', 'km_por_minuto'],\n",
      "      dtype='object')\n"
     ]
    }
   ],
   "source": [
    "import pandas as pd\n",
    "import sqlite3\n",
    "\n",
    "def carregar_dados():\n",
    "    conn = sqlite3.connect('/home/selaranjeira/Desktop/loc_proj/desemp_esportivo/data/runningDB.sqlite3')\n",
    "    df = pd.read_sql_query(\"SELECT * FROM running_data\", conn)\n",
    "    conn.close()\n",
    "    df['data'] = pd.to_datetime(df['data'])\n",
    "    df['quilometragem'] = df['quilometragem'].astype(float)\n",
    "    print(\"Colunas disponíveis no DataFrame:\", df.columns)\n",
    "    return df\n",
    "\n",
    "def calcular_metricas(df):\n",
    "    if 'calorias' in df.columns and 'tempo_min' in df.columns:\n",
    "        df['calorias_por_minuto'] = df['calorias'] / df['tempo_min']\n",
    "        df['km_por_minuto'] = df['quilometragem'] / (df['tempo_min'] / 60)\n",
    "    else:\n",
    "        print(\"Colunas necessárias não estão presentes no DataFrame\")\n",
    "    return df\n",
    "\n",
    "df = carregar_dados()\n",
    "df = calcular_metricas(df)\n",
    "print(\"Colunas após calcular métricas:\", df.columns)\n"
   ]
  },
  {
   "cell_type": "code",
   "execution_count": null,
   "metadata": {},
   "outputs": [],
   "source": []
  }
 ],
 "metadata": {
  "kernelspec": {
   "display_name": "py312",
   "language": "python",
   "name": "python3"
  },
  "language_info": {
   "codemirror_mode": {
    "name": "ipython",
    "version": 3
   },
   "file_extension": ".py",
   "mimetype": "text/x-python",
   "name": "python",
   "nbconvert_exporter": "python",
   "pygments_lexer": "ipython3",
   "version": "3.12.4"
  }
 },
 "nbformat": 4,
 "nbformat_minor": 2
}
